{
 "cells": [
  {
   "cell_type": "code",
   "execution_count": 107,
   "metadata": {},
   "outputs": [],
   "source": [
    "import numpy as np\n",
    "import pandas as pd\n",
    "import matplotlib.pyplot as plt\n",
    "import seaborn as sns\n",
    "from sklearn.model_selection import train_test_split\n",
    "from sklearn.decomposition import PCA\n",
    "from sklearn.metrics import accuracy_score,classification_report,confusion_matrix\n",
    "from sklearn.neighbors import KNeighborsClassifier\n",
    "from sklearn.svm import SVC\n",
    "from sklearn.tree import DecisionTreeClassifier\n",
    "from sklearn.ensemble import RandomForestClassifier"
   ]
  },
  {
   "cell_type": "code",
   "execution_count": 108,
   "metadata": {},
   "outputs": [],
   "source": [
    "han_sig=pd.read_csv(\"C:\\\\Users\\\\acer\\\\Desktop\\\\machine\\\\proj\\\\sign_mnist_train.csv\")"
   ]
  },
  {
   "cell_type": "code",
   "execution_count": 109,
   "metadata": {},
   "outputs": [
    {
     "data": {
      "text/html": [
       "<div>\n",
       "<style scoped>\n",
       "    .dataframe tbody tr th:only-of-type {\n",
       "        vertical-align: middle;\n",
       "    }\n",
       "\n",
       "    .dataframe tbody tr th {\n",
       "        vertical-align: top;\n",
       "    }\n",
       "\n",
       "    .dataframe thead th {\n",
       "        text-align: right;\n",
       "    }\n",
       "</style>\n",
       "<table border=\"1\" class=\"dataframe\">\n",
       "  <thead>\n",
       "    <tr style=\"text-align: right;\">\n",
       "      <th></th>\n",
       "      <th>label</th>\n",
       "      <th>pixel1</th>\n",
       "      <th>pixel2</th>\n",
       "      <th>pixel3</th>\n",
       "      <th>pixel4</th>\n",
       "      <th>pixel5</th>\n",
       "      <th>pixel6</th>\n",
       "      <th>pixel7</th>\n",
       "      <th>pixel8</th>\n",
       "      <th>pixel9</th>\n",
       "      <th>...</th>\n",
       "      <th>pixel775</th>\n",
       "      <th>pixel776</th>\n",
       "      <th>pixel777</th>\n",
       "      <th>pixel778</th>\n",
       "      <th>pixel779</th>\n",
       "      <th>pixel780</th>\n",
       "      <th>pixel781</th>\n",
       "      <th>pixel782</th>\n",
       "      <th>pixel783</th>\n",
       "      <th>pixel784</th>\n",
       "    </tr>\n",
       "  </thead>\n",
       "  <tbody>\n",
       "    <tr>\n",
       "      <th>0</th>\n",
       "      <td>3</td>\n",
       "      <td>107</td>\n",
       "      <td>118</td>\n",
       "      <td>127</td>\n",
       "      <td>134</td>\n",
       "      <td>139</td>\n",
       "      <td>143</td>\n",
       "      <td>146</td>\n",
       "      <td>150</td>\n",
       "      <td>153</td>\n",
       "      <td>...</td>\n",
       "      <td>207</td>\n",
       "      <td>207</td>\n",
       "      <td>207</td>\n",
       "      <td>207</td>\n",
       "      <td>206</td>\n",
       "      <td>206</td>\n",
       "      <td>206</td>\n",
       "      <td>204</td>\n",
       "      <td>203</td>\n",
       "      <td>202</td>\n",
       "    </tr>\n",
       "    <tr>\n",
       "      <th>1</th>\n",
       "      <td>6</td>\n",
       "      <td>155</td>\n",
       "      <td>157</td>\n",
       "      <td>156</td>\n",
       "      <td>156</td>\n",
       "      <td>156</td>\n",
       "      <td>157</td>\n",
       "      <td>156</td>\n",
       "      <td>158</td>\n",
       "      <td>158</td>\n",
       "      <td>...</td>\n",
       "      <td>69</td>\n",
       "      <td>149</td>\n",
       "      <td>128</td>\n",
       "      <td>87</td>\n",
       "      <td>94</td>\n",
       "      <td>163</td>\n",
       "      <td>175</td>\n",
       "      <td>103</td>\n",
       "      <td>135</td>\n",
       "      <td>149</td>\n",
       "    </tr>\n",
       "    <tr>\n",
       "      <th>2</th>\n",
       "      <td>2</td>\n",
       "      <td>187</td>\n",
       "      <td>188</td>\n",
       "      <td>188</td>\n",
       "      <td>187</td>\n",
       "      <td>187</td>\n",
       "      <td>186</td>\n",
       "      <td>187</td>\n",
       "      <td>188</td>\n",
       "      <td>187</td>\n",
       "      <td>...</td>\n",
       "      <td>202</td>\n",
       "      <td>201</td>\n",
       "      <td>200</td>\n",
       "      <td>199</td>\n",
       "      <td>198</td>\n",
       "      <td>199</td>\n",
       "      <td>198</td>\n",
       "      <td>195</td>\n",
       "      <td>194</td>\n",
       "      <td>195</td>\n",
       "    </tr>\n",
       "    <tr>\n",
       "      <th>3</th>\n",
       "      <td>2</td>\n",
       "      <td>211</td>\n",
       "      <td>211</td>\n",
       "      <td>212</td>\n",
       "      <td>212</td>\n",
       "      <td>211</td>\n",
       "      <td>210</td>\n",
       "      <td>211</td>\n",
       "      <td>210</td>\n",
       "      <td>210</td>\n",
       "      <td>...</td>\n",
       "      <td>235</td>\n",
       "      <td>234</td>\n",
       "      <td>233</td>\n",
       "      <td>231</td>\n",
       "      <td>230</td>\n",
       "      <td>226</td>\n",
       "      <td>225</td>\n",
       "      <td>222</td>\n",
       "      <td>229</td>\n",
       "      <td>163</td>\n",
       "    </tr>\n",
       "    <tr>\n",
       "      <th>4</th>\n",
       "      <td>13</td>\n",
       "      <td>164</td>\n",
       "      <td>167</td>\n",
       "      <td>170</td>\n",
       "      <td>172</td>\n",
       "      <td>176</td>\n",
       "      <td>179</td>\n",
       "      <td>180</td>\n",
       "      <td>184</td>\n",
       "      <td>185</td>\n",
       "      <td>...</td>\n",
       "      <td>92</td>\n",
       "      <td>105</td>\n",
       "      <td>105</td>\n",
       "      <td>108</td>\n",
       "      <td>133</td>\n",
       "      <td>163</td>\n",
       "      <td>157</td>\n",
       "      <td>163</td>\n",
       "      <td>164</td>\n",
       "      <td>179</td>\n",
       "    </tr>\n",
       "  </tbody>\n",
       "</table>\n",
       "<p>5 rows × 785 columns</p>\n",
       "</div>"
      ],
      "text/plain": [
       "   label  pixel1  pixel2  pixel3  pixel4  pixel5  pixel6  pixel7  pixel8  \\\n",
       "0      3     107     118     127     134     139     143     146     150   \n",
       "1      6     155     157     156     156     156     157     156     158   \n",
       "2      2     187     188     188     187     187     186     187     188   \n",
       "3      2     211     211     212     212     211     210     211     210   \n",
       "4     13     164     167     170     172     176     179     180     184   \n",
       "\n",
       "   pixel9    ...     pixel775  pixel776  pixel777  pixel778  pixel779  \\\n",
       "0     153    ...          207       207       207       207       206   \n",
       "1     158    ...           69       149       128        87        94   \n",
       "2     187    ...          202       201       200       199       198   \n",
       "3     210    ...          235       234       233       231       230   \n",
       "4     185    ...           92       105       105       108       133   \n",
       "\n",
       "   pixel780  pixel781  pixel782  pixel783  pixel784  \n",
       "0       206       206       204       203       202  \n",
       "1       163       175       103       135       149  \n",
       "2       199       198       195       194       195  \n",
       "3       226       225       222       229       163  \n",
       "4       163       157       163       164       179  \n",
       "\n",
       "[5 rows x 785 columns]"
      ]
     },
     "execution_count": 109,
     "metadata": {},
     "output_type": "execute_result"
    }
   ],
   "source": [
    "han_sig.head()"
   ]
  },
  {
   "cell_type": "code",
   "execution_count": 110,
   "metadata": {},
   "outputs": [
    {
     "data": {
      "text/plain": [
       "(27455, 785)"
      ]
     },
     "execution_count": 110,
     "metadata": {},
     "output_type": "execute_result"
    }
   ],
   "source": [
    "han_sig.shape"
   ]
  },
  {
   "cell_type": "code",
   "execution_count": 111,
   "metadata": {},
   "outputs": [],
   "source": [
    "r=han_sig.iloc[0,1:]\n"
   ]
  },
  {
   "cell_type": "code",
   "execution_count": 112,
   "metadata": {},
   "outputs": [],
   "source": [
    "row1_shp=r.values.reshape(28,28)"
   ]
  },
  {
   "cell_type": "code",
   "execution_count": 113,
   "metadata": {},
   "outputs": [
    {
     "data": {
      "text/plain": [
       "array([[107, 118, 127, 134, 139, 143, 146, 150, 153, 156, 158, 160, 163,\n",
       "        165, 159, 166, 168, 170, 170, 171, 171, 171, 172, 171, 171, 170,\n",
       "        170, 169],\n",
       "       [111, 121, 129, 135, 141, 144, 148, 151, 154, 157, 160, 163, 164,\n",
       "        170, 119, 152, 171, 171, 170, 171, 172, 172, 172, 172, 172, 171,\n",
       "        171, 170],\n",
       "       [113, 123, 131, 137, 142, 145, 150, 152, 155, 158, 161, 163, 164,\n",
       "        172, 105, 142, 170, 171, 171, 171, 172, 172, 173, 173, 172, 171,\n",
       "        171, 171],\n",
       "       [116, 125, 133, 139, 143, 146, 151, 153, 156, 159, 162, 163, 167,\n",
       "        167,  95, 144, 171, 172, 172, 172, 172, 172, 173, 173, 173, 172,\n",
       "        172, 171],\n",
       "       [117, 126, 134, 140, 145, 149, 153, 156, 158, 161, 163, 164, 175,\n",
       "        156,  87, 154, 172, 173, 173, 173, 173, 173, 174, 174, 174, 173,\n",
       "        172, 172],\n",
       "       [119, 128, 136, 142, 146, 150, 153, 156, 159, 163, 165, 164, 184,\n",
       "        148,  89, 164, 172, 174, 174, 174, 174, 175, 175, 174, 175, 174,\n",
       "        173, 173],\n",
       "       [122, 130, 138, 143, 147, 150, 154, 158, 162, 165, 166, 172, 181,\n",
       "        128,  94, 170, 173, 175, 174, 175, 176, 177, 177, 177, 177, 175,\n",
       "        175, 174],\n",
       "       [122, 132, 139, 145, 149, 152, 156, 160, 163, 165, 166, 181, 172,\n",
       "        103, 113, 175, 176, 178, 178, 179, 179, 179, 179, 178, 179, 177,\n",
       "        175, 174],\n",
       "       [125, 134, 141, 147, 150, 153, 157, 161, 164, 167, 168, 184, 179,\n",
       "        116, 126, 165, 176, 179, 180, 180, 181, 180, 180, 180, 179, 178,\n",
       "        177, 176],\n",
       "       [128, 135, 142, 148, 152, 154, 158, 162, 165, 168, 170, 187, 180,\n",
       "        156, 161, 124, 143, 179, 178, 178, 181, 182, 181, 180, 181, 180,\n",
       "        179, 179],\n",
       "       [129, 136, 144, 150, 153, 155, 159, 163, 166, 169, 172, 187, 184,\n",
       "        153, 102, 117, 110, 175, 169, 154, 182, 183, 183, 182, 182, 181,\n",
       "        181, 179],\n",
       "       [131, 138, 145, 150, 155, 157, 161, 165, 168, 174, 190, 189, 175,\n",
       "        146,  94,  97, 113, 151, 158, 129, 184, 184, 184, 184, 183, 183,\n",
       "        182, 180],\n",
       "       [131, 139, 146, 151, 155, 159, 163, 167, 175, 182, 179, 171, 159,\n",
       "        114, 102,  89, 121, 136, 136,  96, 172, 186, 186, 185, 185, 184,\n",
       "        182, 181],\n",
       "       [131, 140, 147, 154, 157, 160, 164, 179, 186, 191, 187, 180, 157,\n",
       "        100,  88,  84, 108, 111, 126,  90, 120, 186, 187, 187, 186, 185,\n",
       "        184, 182],\n",
       "       [133, 141, 149, 155, 158, 160, 174, 201, 189, 165, 151, 143, 146,\n",
       "        120,  87,  78,  87,  76, 108,  98,  96, 181, 188, 187, 186, 186,\n",
       "        185, 183],\n",
       "       [133, 141, 150, 156, 160, 161, 179, 197, 174, 135,  99,  72,  95,\n",
       "        134,  97,  72,  74,  68, 116, 105, 108, 187, 189, 187, 187, 186,\n",
       "        186, 185],\n",
       "       [134, 143, 151, 156, 161, 163, 179, 194, 156, 110,  74,  42,  52,\n",
       "        139,  94,  67,  75,  75, 118, 106, 129, 189, 191, 190, 188, 188,\n",
       "        187, 186],\n",
       "       [135, 144, 152, 158, 163, 163, 177, 193, 161, 122,  84,  43,  71,\n",
       "        134,  81,  57,  71,  88, 112,  98, 157, 193, 193, 192, 190, 190,\n",
       "        189, 188],\n",
       "       [136, 144, 152, 158, 162, 163, 176, 192, 164, 128,  98,  62,  60,\n",
       "        100,  71,  76,  96, 101, 105,  95, 174, 195, 194, 194, 194, 193,\n",
       "        191, 190],\n",
       "       [137, 145, 152, 159, 164, 165, 178, 191, 164, 135, 113,  82,  59,\n",
       "         87,  98, 111, 120, 108,  97, 108, 190, 196, 195, 195, 194, 193,\n",
       "        193, 192],\n",
       "       [139, 146, 154, 160, 164, 165, 175, 186, 163, 139, 112,  85,  67,\n",
       "        102, 126, 133, 126, 105, 104, 176, 197, 198, 197, 196, 195, 195,\n",
       "        194, 193],\n",
       "       [138, 147, 155, 161, 165, 167, 172, 186, 163, 137, 107,  87,  76,\n",
       "        106, 122, 125, 117,  96, 156, 199, 199, 200, 198, 196, 196, 195,\n",
       "        195, 194],\n",
       "       [139, 148, 156, 163, 166, 168, 172, 180, 158, 131, 108,  99,  86,\n",
       "        108, 118, 116, 103, 107, 191, 202, 201, 200, 200, 200, 199, 197,\n",
       "        198, 196],\n",
       "       [140, 149, 157, 164, 168, 167, 177, 178, 155, 131, 118, 105,  87,\n",
       "        100, 106, 100,  96, 164, 202, 202, 202, 202, 202, 201, 200, 199,\n",
       "        199, 198],\n",
       "       [140, 150, 157, 165, 167, 170, 181, 175, 152, 130, 115,  98,  82,\n",
       "         85,  90,  99, 165, 202, 203, 204, 203, 203, 202, 202, 201, 201,\n",
       "        200, 200],\n",
       "       [142, 150, 159, 165, 170, 191, 173, 157, 144, 119,  97,  84,  79,\n",
       "         79,  91, 172, 202, 203, 203, 205, 204, 204, 204, 203, 202, 202,\n",
       "        201, 200],\n",
       "       [142, 151, 160, 165, 188, 190, 187, 150, 119, 109,  85,  79,  79,\n",
       "         78, 137, 203, 205, 206, 206, 207, 207, 206, 206, 204, 205, 204,\n",
       "        203, 202],\n",
       "       [142, 151, 160, 172, 196, 188, 188, 190, 135,  96,  86,  77,  77,\n",
       "         79, 176, 205, 207, 207, 207, 207, 207, 207, 206, 206, 206, 204,\n",
       "        203, 202]], dtype=int64)"
      ]
     },
     "execution_count": 113,
     "metadata": {},
     "output_type": "execute_result"
    }
   ],
   "source": [
    "row1_shp"
   ]
  },
  {
   "cell_type": "code",
   "execution_count": 114,
   "metadata": {},
   "outputs": [
    {
     "data": {
      "image/png": "[encoded data removed]",
      "text/plain": [
       "<Figure size 432x288 with 1 Axes>"
      ]
     },
     "metadata": {},
     "output_type": "display_data"
    }
   ],
   "source": [
    "row1_img=plt.imshow(row1_shp,interpolation=\"bicubic\")"
   ]
  },
  {
   "cell_type": "code",
   "execution_count": 115,
   "metadata": {},
   "outputs": [],
   "source": [
    "pca=PCA(n_components=625)"
   ]
  },
  {
   "cell_type": "code",
   "execution_count": 116,
   "metadata": {},
   "outputs": [
    {
     "data": {
      "text/plain": [
       "PCA(copy=True, iterated_power='auto', n_components=625, random_state=None,\n",
       "  svd_solver='auto', tol=0.0, whiten=False)"
      ]
     },
     "execution_count": 116,
     "metadata": {},
     "output_type": "execute_result"
    }
   ],
   "source": [
    "pca.fit(han_sig.drop(labels=\"label\",axis=1))"
   ]
  },
  {
   "cell_type": "code",
   "execution_count": 117,
   "metadata": {},
   "outputs": [],
   "source": [
    "x_t=pca.transform(han_sig.drop(labels=\"label\",axis=1))\n"
   ]
  },
  {
   "cell_type": "code",
   "execution_count": 118,
   "metadata": {},
   "outputs": [
    {
     "data": {
      "text/plain": [
       "(27455, 625)"
      ]
     },
     "execution_count": 118,
     "metadata": {},
     "output_type": "execute_result"
    }
   ],
   "source": [
    "x_t.shape"
   ]
  },
  {
   "cell_type": "code",
   "execution_count": 119,
   "metadata": {},
   "outputs": [],
   "source": [
    "Y=han_sig[\"label\"]\n",
    "X=x_t"
   ]
  },
  {
   "cell_type": "code",
   "execution_count": 120,
   "metadata": {},
   "outputs": [],
   "source": [
    "X_train,X_test,Y_train,Y_test=train_test_split(X,Y,test_size=0.2,random_state=42)"
   ]
  },
  {
   "cell_type": "code",
   "execution_count": 121,
   "metadata": {},
   "outputs": [],
   "source": [
    "dec=DecisionTreeClassifier(criterion=\"entropy\")"
   ]
  },
  {
   "cell_type": "code",
   "execution_count": 122,
   "metadata": {},
   "outputs": [
    {
     "data": {
      "text/plain": [
       "DecisionTreeClassifier(class_weight=None, criterion='entropy', max_depth=None,\n",
       "            max_features=None, max_leaf_nodes=None,\n",
       "            min_impurity_decrease=0.0, min_impurity_split=None,\n",
       "            min_samples_leaf=1, min_samples_split=2,\n",
       "            min_weight_fraction_leaf=0.0, presort=False, random_state=None,\n",
       "            splitter='best')"
      ]
     },
     "execution_count": 122,
     "metadata": {},
     "output_type": "execute_result"
    }
   ],
   "source": [
    "dec.fit(X_train, Y_train)"
   ]
  },
  {
   "cell_type": "code",
   "execution_count": 123,
   "metadata": {},
   "outputs": [],
   "source": [
    "pred_dec= dec.predict(X_test)"
   ]
  },
  {
   "cell_type": "code",
   "execution_count": 124,
   "metadata": {},
   "outputs": [
    {
     "name": "stdout",
     "output_type": "stream",
     "text": [
      "Accuracy is  96.15734838827171\n"
     ]
    }
   ],
   "source": [
    "print (\"Accuracy is \", accuracy_score(Y_test,pred_dec)*100)"
   ]
  },
  {
   "cell_type": "code",
   "execution_count": 143,
   "metadata": {},
   "outputs": [
    {
     "name": "stdout",
     "output_type": "stream",
     "text": [
      "             precision    recall  f1-score   support\n",
      "\n",
      "          0       0.95      0.98      0.97       221\n",
      "          1       0.99      0.99      0.99       188\n",
      "          2       0.98      0.97      0.98       220\n",
      "          3       0.96      0.96      0.96       256\n",
      "          4       0.96      0.97      0.96       202\n",
      "          5       0.96      0.96      0.96       242\n",
      "          6       0.96      0.96      0.96       221\n",
      "          7       0.96      0.97      0.96       205\n",
      "          8       0.95      0.95      0.95       219\n",
      "         10       0.98      0.96      0.97       219\n",
      "         11       0.96      0.97      0.97       268\n",
      "         12       0.94      0.94      0.94       232\n",
      "         13       0.96      0.94      0.95       209\n",
      "         14       0.96      0.98      0.97       219\n",
      "         15       0.98      0.98      0.98       202\n",
      "         16       0.98      0.97      0.98       291\n",
      "         17       0.96      0.96      0.96       261\n",
      "         18       0.97      0.93      0.95       271\n",
      "         19       0.96      0.92      0.94       230\n",
      "         20       0.92      0.98      0.95       227\n",
      "         21       0.96      0.96      0.96       197\n",
      "         22       0.96      0.93      0.94       254\n",
      "         23       0.96      0.96      0.96       230\n",
      "         24       0.94      0.98      0.96       207\n",
      "\n",
      "avg / total       0.96      0.96      0.96      5491\n",
      "\n"
     ]
    }
   ],
   "source": [
    "print(classification_report(Y_test,pred_dec))"
   ]
  },
  {
   "cell_type": "code",
   "execution_count": 146,
   "metadata": {},
   "outputs": [],
   "source": [
    "d2=DecisionTreeClassifier(criterion=\"gini\")"
   ]
  },
  {
   "cell_type": "code",
   "execution_count": 147,
   "metadata": {},
   "outputs": [
    {
     "data": {
      "text/plain": [
       "DecisionTreeClassifier(class_weight=None, criterion='gini', max_depth=None,\n",
       "            max_features=None, max_leaf_nodes=None,\n",
       "            min_impurity_decrease=0.0, min_impurity_split=None,\n",
       "            min_samples_leaf=1, min_samples_split=2,\n",
       "            min_weight_fraction_leaf=0.0, presort=False, random_state=None,\n",
       "            splitter='best')"
      ]
     },
     "execution_count": 147,
     "metadata": {},
     "output_type": "execute_result"
    }
   ],
   "source": [
    "d2.fit(X_train, Y_train)"
   ]
  },
  {
   "cell_type": "code",
   "execution_count": 148,
   "metadata": {},
   "outputs": [],
   "source": [
    "pred_d2= d2.predict(X_test)"
   ]
  },
  {
   "cell_type": "code",
   "execution_count": 149,
   "metadata": {},
   "outputs": [
    {
     "name": "stdout",
     "output_type": "stream",
     "text": [
      "Accuracy is  94.66399562921144\n"
     ]
    }
   ],
   "source": [
    "print (\"Accuracy is \", accuracy_score(Y_test,pred_d2)*100)"
   ]
  },
  {
   "cell_type": "code",
   "execution_count": 153,
   "metadata": {},
   "outputs": [
    {
     "name": "stdout",
     "output_type": "stream",
     "text": [
      "             precision    recall  f1-score   support\n",
      "\n",
      "          0       0.97      0.96      0.97       221\n",
      "          1       0.95      0.95      0.95       188\n",
      "          2       0.96      0.99      0.98       220\n",
      "          3       0.93      0.96      0.94       256\n",
      "          4       0.96      0.96      0.96       202\n",
      "          5       0.97      0.94      0.95       242\n",
      "          6       0.92      0.93      0.93       221\n",
      "          7       0.95      0.96      0.95       205\n",
      "          8       0.90      0.93      0.91       219\n",
      "         10       0.96      0.95      0.95       219\n",
      "         11       0.97      0.95      0.96       268\n",
      "         12       0.96      0.93      0.94       232\n",
      "         13       0.95      0.97      0.96       209\n",
      "         14       0.95      0.99      0.97       219\n",
      "         15       0.93      0.96      0.94       202\n",
      "         16       0.97      0.97      0.97       291\n",
      "         17       0.96      0.90      0.93       261\n",
      "         18       0.93      0.89      0.91       271\n",
      "         19       0.95      0.94      0.95       230\n",
      "         20       0.92      0.96      0.94       227\n",
      "         21       0.91      0.96      0.94       197\n",
      "         22       0.95      0.93      0.94       254\n",
      "         23       0.94      0.93      0.93       230\n",
      "         24       0.94      0.95      0.94       207\n",
      "\n",
      "avg / total       0.95      0.95      0.95      5491\n",
      "\n"
     ]
    }
   ],
   "source": [
    "print(classification_report(Y_test,pred_d2))"
   ]
  },
  {
   "cell_type": "code",
   "execution_count": 125,
   "metadata": {},
   "outputs": [],
   "source": [
    "c=RandomForestClassifier()"
   ]
  },
  {
   "cell_type": "code",
   "execution_count": 126,
   "metadata": {},
   "outputs": [
    {
     "data": {
      "text/plain": [
       "RandomForestClassifier(bootstrap=True, class_weight=None, criterion='gini',\n",
       "            max_depth=None, max_features='auto', max_leaf_nodes=None,\n",
       "            min_impurity_decrease=0.0, min_impurity_split=None,\n",
       "            min_samples_leaf=1, min_samples_split=2,\n",
       "            min_weight_fraction_leaf=0.0, n_estimators=10, n_jobs=1,\n",
       "            oob_score=False, random_state=None, verbose=0,\n",
       "            warm_start=False)"
      ]
     },
     "execution_count": 126,
     "metadata": {},
     "output_type": "execute_result"
    }
   ],
   "source": [
    "c.fit(X_train, Y_train)"
   ]
  },
  {
   "cell_type": "code",
   "execution_count": 127,
   "metadata": {},
   "outputs": [],
   "source": [
    "y_pred_rf = c.predict(X_test)"
   ]
  },
  {
   "cell_type": "code",
   "execution_count": 128,
   "metadata": {},
   "outputs": [
    {
     "name": "stdout",
     "output_type": "stream",
     "text": [
      "Accuracy is  99.72682571480604\n"
     ]
    }
   ],
   "source": [
    "print (\"Accuracy is \", accuracy_score(Y_test,y_pred_rf)*100)"
   ]
  },
  {
   "cell_type": "code",
   "execution_count": 129,
   "metadata": {},
   "outputs": [
    {
     "name": "stdout",
     "output_type": "stream",
     "text": [
      "             precision    recall  f1-score   support\n",
      "\n",
      "          0       0.99      1.00      1.00       221\n",
      "          1       0.99      1.00      0.99       188\n",
      "          2       0.99      1.00      1.00       220\n",
      "          3       1.00      1.00      1.00       256\n",
      "          4       1.00      0.99      0.99       202\n",
      "          5       1.00      1.00      1.00       242\n",
      "          6       0.99      1.00      1.00       221\n",
      "          7       1.00      1.00      1.00       205\n",
      "          8       1.00      0.98      0.99       219\n",
      "         10       1.00      1.00      1.00       219\n",
      "         11       1.00      1.00      1.00       268\n",
      "         12       1.00      1.00      1.00       232\n",
      "         13       1.00      1.00      1.00       209\n",
      "         14       1.00      1.00      1.00       219\n",
      "         15       1.00      1.00      1.00       202\n",
      "         16       1.00      1.00      1.00       291\n",
      "         17       1.00      1.00      1.00       261\n",
      "         18       1.00      1.00      1.00       271\n",
      "         19       1.00      1.00      1.00       230\n",
      "         20       1.00      1.00      1.00       227\n",
      "         21       1.00      1.00      1.00       197\n",
      "         22       1.00      1.00      1.00       254\n",
      "         23       1.00      1.00      1.00       230\n",
      "         24       1.00      1.00      1.00       207\n",
      "\n",
      "avg / total       1.00      1.00      1.00      5491\n",
      "\n"
     ]
    }
   ],
   "source": [
    "print(classification_report(Y_test,y_pred_rf))"
   ]
  },
  {
   "cell_type": "code",
   "execution_count": 130,
   "metadata": {},
   "outputs": [],
   "source": [
    "knn=KNeighborsClassifier(n_neighbors=5)"
   ]
  },
  {
   "cell_type": "code",
   "execution_count": 131,
   "metadata": {},
   "outputs": [
    {
     "data": {
      "text/plain": [
       "KNeighborsClassifier(algorithm='auto', leaf_size=30, metric='minkowski',\n",
       "           metric_params=None, n_jobs=1, n_neighbors=5, p=2,\n",
       "           weights='uniform')"
      ]
     },
     "execution_count": 131,
     "metadata": {},
     "output_type": "execute_result"
    }
   ],
   "source": [
    "knn.fit(X_train,Y_train)"
   ]
  },
  {
   "cell_type": "code",
   "execution_count": 132,
   "metadata": {},
   "outputs": [],
   "source": [
    "pred_knn=knn.predict(X_test)"
   ]
  },
  {
   "cell_type": "code",
   "execution_count": 133,
   "metadata": {},
   "outputs": [
    {
     "name": "stdout",
     "output_type": "stream",
     "text": [
      "             precision    recall  f1-score   support\n",
      "\n",
      "          0       0.99      1.00      1.00       221\n",
      "          1       0.99      1.00      1.00       188\n",
      "          2       1.00      1.00      1.00       220\n",
      "          3       1.00      1.00      1.00       256\n",
      "          4       1.00      1.00      1.00       202\n",
      "          5       1.00      1.00      1.00       242\n",
      "          6       1.00      1.00      1.00       221\n",
      "          7       1.00      1.00      1.00       205\n",
      "          8       1.00      0.99      0.99       219\n",
      "         10       1.00      1.00      1.00       219\n",
      "         11       1.00      1.00      1.00       268\n",
      "         12       1.00      0.98      0.99       232\n",
      "         13       0.98      1.00      0.99       209\n",
      "         14       1.00      1.00      1.00       219\n",
      "         15       1.00      1.00      1.00       202\n",
      "         16       1.00      1.00      1.00       291\n",
      "         17       0.99      0.99      0.99       261\n",
      "         18       1.00      1.00      1.00       271\n",
      "         19       0.99      1.00      1.00       230\n",
      "         20       1.00      0.99      0.99       227\n",
      "         21       1.00      0.99      1.00       197\n",
      "         22       0.99      1.00      0.99       254\n",
      "         23       1.00      1.00      1.00       230\n",
      "         24       1.00      1.00      1.00       207\n",
      "\n",
      "avg / total       1.00      1.00      1.00      5491\n",
      "\n"
     ]
    }
   ],
   "source": [
    "print(classification_report(Y_test,pred_knn))"
   ]
  },
  {
   "cell_type": "code",
   "execution_count": 134,
   "metadata": {},
   "outputs": [
    {
     "name": "stdout",
     "output_type": "stream",
     "text": [
      "Accuracy is  99.59934438171554\n"
     ]
    }
   ],
   "source": [
    "print (\"Accuracy is \", accuracy_score(Y_test,pred_knn)*100)"
   ]
  },
  {
   "cell_type": "code",
   "execution_count": 135,
   "metadata": {},
   "outputs": [],
   "source": [
    "svclassifier = SVC(kernel='linear', degree=8)  "
   ]
  },
  {
   "cell_type": "code",
   "execution_count": 136,
   "metadata": {},
   "outputs": [
    {
     "data": {
      "text/plain": [
       "SVC(C=1.0, cache_size=200, class_weight=None, coef0=0.0,\n",
       "  decision_function_shape='ovr', degree=8, gamma='auto', kernel='linear',\n",
       "  max_iter=-1, probability=False, random_state=None, shrinking=True,\n",
       "  tol=0.001, verbose=False)"
      ]
     },
     "execution_count": 136,
     "metadata": {},
     "output_type": "execute_result"
    }
   ],
   "source": [
    "svclassifier.fit(X_train, Y_train) "
   ]
  },
  {
   "cell_type": "code",
   "execution_count": 137,
   "metadata": {},
   "outputs": [],
   "source": [
    "y_predsvc = svclassifier.predict(X_test)"
   ]
  },
  {
   "cell_type": "code",
   "execution_count": 138,
   "metadata": {},
   "outputs": [
    {
     "name": "stdout",
     "output_type": "stream",
     "text": [
      "             precision    recall  f1-score   support\n",
      "\n",
      "          0       1.00      1.00      1.00       221\n",
      "          1       1.00      1.00      1.00       188\n",
      "          2       1.00      1.00      1.00       220\n",
      "          3       1.00      1.00      1.00       256\n",
      "          4       1.00      1.00      1.00       202\n",
      "          5       1.00      1.00      1.00       242\n",
      "          6       1.00      1.00      1.00       221\n",
      "          7       1.00      1.00      1.00       205\n",
      "          8       1.00      1.00      1.00       219\n",
      "         10       1.00      1.00      1.00       219\n",
      "         11       1.00      1.00      1.00       268\n",
      "         12       1.00      1.00      1.00       232\n",
      "         13       1.00      1.00      1.00       209\n",
      "         14       1.00      1.00      1.00       219\n",
      "         15       1.00      1.00      1.00       202\n",
      "         16       1.00      1.00      1.00       291\n",
      "         17       1.00      1.00      1.00       261\n",
      "         18       1.00      1.00      1.00       271\n",
      "         19       1.00      1.00      1.00       230\n",
      "         20       1.00      1.00      1.00       227\n",
      "         21       1.00      1.00      1.00       197\n",
      "         22       1.00      1.00      1.00       254\n",
      "         23       1.00      1.00      1.00       230\n",
      "         24       1.00      1.00      1.00       207\n",
      "\n",
      "avg / total       1.00      1.00      1.00      5491\n",
      "\n"
     ]
    }
   ],
   "source": [
    "print(classification_report(Y_test,y_predsvc))"
   ]
  },
  {
   "cell_type": "code",
   "execution_count": 139,
   "metadata": {},
   "outputs": [
    {
     "name": "stdout",
     "output_type": "stream",
     "text": [
      "Accuracy is  100.0\n"
     ]
    }
   ],
   "source": [
    "print (\"Accuracy is \", accuracy_score(Y_test,y_predsvc)*100)"
   ]
  },
  {
   "cell_type": "code",
   "execution_count": 150,
   "metadata": {},
   "outputs": [],
   "source": [
    "d={\"CLASSIFIER\":[\"DECISION TREE(GINI)\",\"DECISION TREE\",\"RANDOM FOREST\",\"KNEARESTNEIGHBOR\",\"SUPPORT VECTOR MACHINE\"],\"ACCURACY\":[ 94.66,96.13,99.83,99.59,100.0]}"
   ]
  },
  {
   "cell_type": "code",
   "execution_count": 151,
   "metadata": {},
   "outputs": [],
   "source": [
    "df=pd.DataFrame(data=d)"
   ]
  },
  {
   "cell_type": "code",
   "execution_count": 152,
   "metadata": {},
   "outputs": [
    {
     "data": {
      "text/html": [
       "<div>\n",
       "<style scoped>\n",
       "    .dataframe tbody tr th:only-of-type {\n",
       "        vertical-align: middle;\n",
       "    }\n",
       "\n",
       "    .dataframe tbody tr th {\n",
       "        vertical-align: top;\n",
       "    }\n",
       "\n",
       "    .dataframe thead th {\n",
       "        text-align: right;\n",
       "    }\n",
       "</style>\n",
       "<table border=\"1\" class=\"dataframe\">\n",
       "  <thead>\n",
       "    <tr style=\"text-align: right;\">\n",
       "      <th></th>\n",
       "      <th>CLASSIFIER</th>\n",
       "      <th>ACCURACY</th>\n",
       "    </tr>\n",
       "  </thead>\n",
       "  <tbody>\n",
       "    <tr>\n",
       "      <th>0</th>\n",
       "      <td>DECISION TREE(GINI)</td>\n",
       "      <td>94.66</td>\n",
       "    </tr>\n",
       "    <tr>\n",
       "      <th>1</th>\n",
       "      <td>DECISION TREE</td>\n",
       "      <td>96.13</td>\n",
       "    </tr>\n",
       "    <tr>\n",
       "      <th>2</th>\n",
       "      <td>RANDOM FOREST</td>\n",
       "      <td>99.83</td>\n",
       "    </tr>\n",
       "    <tr>\n",
       "      <th>3</th>\n",
       "      <td>KNEARESTNEIGHBOR</td>\n",
       "      <td>99.59</td>\n",
       "    </tr>\n",
       "    <tr>\n",
       "      <th>4</th>\n",
       "      <td>SUPPORT VECTOR MACHINE</td>\n",
       "      <td>100.00</td>\n",
       "    </tr>\n",
       "  </tbody>\n",
       "</table>\n",
       "</div>"
      ],
      "text/plain": [
       "               CLASSIFIER  ACCURACY\n",
       "0     DECISION TREE(GINI)     94.66\n",
       "1           DECISION TREE     96.13\n",
       "2           RANDOM FOREST     99.83\n",
       "3        KNEARESTNEIGHBOR     99.59\n",
       "4  SUPPORT VECTOR MACHINE    100.00"
      ]
     },
     "execution_count": 152,
     "metadata": {},
     "output_type": "execute_result"
    }
   ],
   "source": [
    "df"
   ]
  },
  {
   "cell_type": "code",
   "execution_count": null,
   "metadata": {},
   "outputs": [],
   "source": []
  },
  {
   "cell_type": "code",
   "execution_count": null,
   "metadata": {},
   "outputs": [],
   "source": []
  }
 ],
 "metadata": {
  "kernelspec": {
   "display_name": "Python 3",
   "language": "python",
   "name": "python3"
  },
  "language_info": {
   "codemirror_mode": {
    "name": "ipython",
    "version": 3
   },
   "file_extension": ".py",
   "mimetype": "text/x-python",
   "name": "python",
   "nbconvert_exporter": "python",
   "pygments_lexer": "ipython3",
   "version": "3.6.5"
  }
 },
 "nbformat": 4,
 "nbformat_minor": 2
}
